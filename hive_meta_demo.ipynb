{
 "cells": [
  {
   "cell_type": "code",
   "execution_count": null,
   "metadata": {
    "collapsed": true
   },
   "outputs": [],
   "source": [
    "# Set the needed context, create a hive database to import all the tables from the mysql database\n",
    "from pyspark import SparkContext,SparkConf\n",
    "import os\n",
    "conf=SparkConf().setMaster(\"yarn-client\").setAppName(\"pyspark\")\n",
    "sc=SparkContext(conf=conf)\n",
    "from pyspark.sql import HiveContext\n",
    "sqlContext=HiveContext(sc)\n",
    "sqlContext.sql('create database if not exists problem6')\n",
    "os.system(\"sqoop import-all-tables --connect jdbc:mysql://quickstart.cloudera:3306/retail_db --username retail_dba --password cloudera \\\n",
    "--warehouse-dir /user/hive/warehouse/problem6\")\n",
    "\n",
    "\n"
   ]
  },
  {
   "cell_type": "code",
   "execution_count": 6,
   "metadata": {
    "collapsed": false
   },
   "outputs": [
    {
     "name": "stdout",
     "output_type": "stream",
     "text": [
      "+-------------+----------+--------------------+-------------+------------------+------------------------+\n",
      "|department_id|product_id|        product_name|product_price|product_price_rank|product_dense_price_rank|\n",
      "+-------------+----------+--------------------+-------------+------------------+------------------------+\n",
      "|            2|        66|  SOLE F85 Treadmill|      1799.99|               168|                      56|\n",
      "|            2|        60| SOLE E25 Elliptical|       999.99|               167|                      55|\n",
      "|            2|        74|Goaliath 54\" In-G...|       499.99|               166|                      54|\n",
      "|            2|       117|YETI Tundra 65 Ch...|       399.99|               164|                      53|\n",
      "|            2|       162|YETI Tundra 65 Ch...|       399.99|               164|                      53|\n",
      "|            2|        71|Diamondback Adult...|       349.98|               163|                      52|\n",
      "|            2|       127|Stiga Master Seri...|       329.99|               162|                      51|\n",
      "|            2|        68|Diamondback Adult...|       309.99|               161|                      50|\n",
      "|            2|        96|Teeter Hang Ups N...|       299.99|               154|                      49|\n",
      "|            2|       106|Teeter Hang Ups N...|       299.99|               154|                      49|\n",
      "|            2|       137|Teeter Hang Ups N...|       299.99|               154|                      49|\n",
      "|            2|        58|Diamondback Boys'...|       299.99|               154|                      49|\n",
      "|            2|       153|Teeter Hang Ups N...|       299.99|               154|                      49|\n",
      "|            2|        16|Riddell Youth 360...|       299.99|               154|                      49|\n",
      "|            2|        61|Diamondback Girls...|       299.99|               154|                      49|\n",
      "|            2|        49|Diamondback Adult...|       299.98|               153|                      48|\n",
      "|            2|       144|Garmin Forerunner...|       249.99|               152|                      47|\n",
      "|            2|        52|Easton Mako Youth...|       249.97|               151|                      46|\n",
      "|            2|        11|Fitness Gear 300 ...|       209.99|               148|                      45|\n",
      "|            2|        63|Fitness Gear 300 ...|       209.99|               148|                      45|\n",
      "+-------------+----------+--------------------+-------------+------------------+------------------------+\n",
      "only showing top 20 rows\n",
      "\n"
     ]
    }
   ],
   "source": [
    "#Rank products within department by price and order by department ascending and rank descending\n",
    "sqlContext.sql('select   d.department_id,   p.product_id,   p.product_name,  p.product_price,  rank() over (partition by d.department_id order by p.product_price) as product_price_rank,   dense_rank() over (partition by d.department_id order by p.product_price) as product_dense_price_rank   from products p   inner join categories c on c.category_id = p.product_category_id  inner join departments d on c.category_department_id = d.department_id  order by d.department_id, product_price_rank desc, product_dense_price_rank').show()\n"
   ]
  },
  {
   "cell_type": "code",
   "execution_count": 7,
   "metadata": {
    "collapsed": true
   },
   "outputs": [],
   "source": [
    "prodRankByPrice=sqlContext.sql('select   d.department_id,   p.product_id,   p.product_name,  p.product_price,  rank() over (partition by d.department_id order by p.product_price) as product_price_rank,   dense_rank() over (partition by d.department_id order by p.product_price) as product_dense_price_rank   from products p   inner join categories c on c.category_id = p.product_category_id  inner join departments d on c.category_department_id = d.department_id  order by d.department_id, product_price_rank desc, product_dense_price_rank')"
   ]
  },
  {
   "cell_type": "code",
   "execution_count": 20,
   "metadata": {
    "collapsed": false
   },
   "outputs": [],
   "source": [
    "#find top 10 customers with most unique product purchases. if more than one customer has the same number of product purchases then the customer with the lowest customer_id will take precedence\n",
    "top10CustByProdCnt=sqlContext.sql('select c.customer_id, count(distinct(oi.order_item_product_id)) unique_prod_count from customers c join orders o on c.customer_id=o.order_customer_id join order_items oi on o.order_id=oi.order_item_id group by c.customer_id order by count(distinct(oi.order_item_product_id)) desc, c.customer_id asc limit 10')"
   ]
  },
  {
   "cell_type": "code",
   "execution_count": 22,
   "metadata": {
    "collapsed": false
   },
   "outputs": [],
   "source": [
    "#Create Hive tables to capture the results\n",
    "prodRankByPrice.registerTempTable('prodRankByPrice')\n",
    "top10CustByProdCnt.registerTempTable('top10CustByProdCnt')\n"
   ]
  },
  {
   "cell_type": "code",
   "execution_count": 23,
   "metadata": {
    "collapsed": false
   },
   "outputs": [
    {
     "name": "stdout",
     "output_type": "stream",
     "text": [
      "+--------------------+---------+-------+\n",
      "|            col_name|data_type|comment|\n",
      "+--------------------+---------+-------+\n",
      "|       department_id|      int|       |\n",
      "|          product_id|      int|       |\n",
      "|        product_name|   string|       |\n",
      "|       product_price|   double|       |\n",
      "|  product_price_rank|      int|       |\n",
      "|product_dense_pri...|      int|       |\n",
      "+--------------------+---------+-------+\n",
      "\n"
     ]
    }
   ],
   "source": [
    "sqlContext.sql('desc prodRankByPrice').show()"
   ]
  },
  {
   "cell_type": "code",
   "execution_count": 24,
   "metadata": {
    "collapsed": false
   },
   "outputs": [
    {
     "name": "stdout",
     "output_type": "stream",
     "text": [
      "+-----------------+---------+-------+\n",
      "|         col_name|data_type|comment|\n",
      "+-----------------+---------+-------+\n",
      "|      customer_id|      int|       |\n",
      "|unique_prod_count|   bigint|       |\n",
      "+-----------------+---------+-------+\n",
      "\n"
     ]
    }
   ],
   "source": [
    "sqlContext.sql('desc top10CustByProdCnt').show()"
   ]
  },
  {
   "cell_type": "code",
   "execution_count": 26,
   "metadata": {
    "collapsed": false
   },
   "outputs": [
    {
     "data": {
      "text/plain": [
       "DataFrame[]"
      ]
     },
     "execution_count": 26,
     "metadata": {},
     "output_type": "execute_result"
    }
   ],
   "source": [
    "#Now create Hive tables using the temp tables from the dataframes\n",
    "sqlContext.sql('create table if not exists default.top10Cust as select *  from top10CustByProdCnt')\n",
    "\n",
    "sqlContext.sql('create table if not exists default.prodPriceRanked as select *  from prodRankByPrice')"
   ]
  },
  {
   "cell_type": "code",
   "execution_count": null,
   "metadata": {
    "collapsed": true
   },
   "outputs": [],
   "source": []
  }
 ],
 "metadata": {
  "kernelspec": {
   "display_name": "Python 2",
   "language": "python",
   "name": "python2"
  },
  "language_info": {
   "codemirror_mode": {
    "name": "ipython",
    "version": 2
   },
   "file_extension": ".py",
   "mimetype": "text/x-python",
   "name": "python",
   "nbconvert_exporter": "python",
   "pygments_lexer": "ipython2",
   "version": "2.7.13"
  }
 },
 "nbformat": 4,
 "nbformat_minor": 2
}
